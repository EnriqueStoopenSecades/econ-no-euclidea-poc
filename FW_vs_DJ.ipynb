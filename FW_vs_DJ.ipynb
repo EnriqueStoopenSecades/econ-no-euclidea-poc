{
 "cells": [
  {
   "cell_type": "code",
   "execution_count": null,
   "id": "0",
   "metadata": {},
   "outputs": [],
   "source": [
    "import time\n",
    "import numpy as np\n",
    "import networkx as nx\n",
    "from sklearn.neighbors import NearestNeighbors\n",
    "from scipy.sparse import csr_matrix\n",
    "from scipy.sparse.csgraph import shortest_path\n"
   ]
  },
  {
   "cell_type": "code",
   "execution_count": null,
   "id": "1",
   "metadata": {},
   "outputs": [],
   "source": [
    "def build_knn_csr(X, k=20):\n",
    "    nbrs = NearestNeighbors(n_neighbors=k+1).fit(X)\n",
    "    dists, idxs = nbrs.kneighbors(X)\n",
    "    n = X.shape[0]\n",
    "    rows = np.repeat(np.arange(n), k)\n",
    "    cols = idxs[:,1:].ravel()\n",
    "    vals = dists[:,1:].ravel()\n",
    "    return csr_matrix((vals, (rows, cols)), shape=(n,n))\n",
    "\n",
    "def time_method(A, method=\"FW\"):\n",
    "    if method == \"FW\":\n",
    "        t0 = time.time()\n",
    "        D = nx.floyd_warshall_numpy(nx.from_scipy_sparse_array(A))\n",
    "        t1 = time.time()\n",
    "    else:\n",
    "        t0 = time.time()\n",
    "        D = shortest_path(A, directed=False, method=method)  # \"D\" = Dijkstra, \"J\" = Johnson\n",
    "        t1 = time.time()\n",
    "    return t1 - t0, D\n"
   ]
  },
  {
   "cell_type": "code",
   "execution_count": null,
   "id": "2",
   "metadata": {},
   "outputs": [],
   "source": [
    "import matplotlib.pyplot as plt\n",
    "\n",
    "Ns = [200, 500, 1000, 2000]  # prueba escalando\n",
    "times_fw = []\n",
    "times_dijkstra = []\n",
    "\n",
    "for n in Ns:\n",
    "    X = np.random.randn(n,3)\n",
    "    A = build_knn_csr(X, k=20)\n",
    "    # Floyd–Warshall\n",
    "    t_fw, _ = time_method(A, method=\"FW\")\n",
    "    times_fw.append(t_fw)\n",
    "    # Dijkstra\n",
    "    t_d, _ = time_method(A, method=\"D\")\n",
    "    times_dijkstra.append(t_d)\n",
    "    print(f\"N={n} | FW={t_fw:.2f}s | Dijkstra={t_d:.2f}s\")\n",
    "\n",
    "plt.plot(Ns, times_fw, \"o-\", label=\"Floyd-Warshall\")\n",
    "plt.plot(Ns, times_dijkstra, \"s-\", label=\"Dijkstra (scipy)\")\n",
    "plt.xlabel(\"Número de nodos (N)\")\n",
    "plt.ylabel(\"Tiempo (s)\")\n",
    "plt.legend(); plt.grid(True)\n",
    "plt.title(\"Benchmark geodésicas\")\n",
    "plt.show()\n"
   ]
  },
  {
   "cell_type": "code",
   "execution_count": null,
   "id": "3",
   "metadata": {},
   "outputs": [],
   "source": []
  }
 ],
 "metadata": {
  "kernelspec": {
   "display_name": "econ-poc",
   "language": "python",
   "name": "econ-poc"
  },
  "language_info": {
   "codemirror_mode": {
    "name": "ipython",
    "version": 3
   },
   "file_extension": ".py",
   "mimetype": "text/x-python",
   "name": "python",
   "nbconvert_exporter": "python",
   "pygments_lexer": "ipython3",
   "version": "3.11.11"
  }
 },
 "nbformat": 4,
 "nbformat_minor": 5
}
