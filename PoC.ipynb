{
 "cells": [
  {
   "cell_type": "code",
   "execution_count": null,
   "id": "0",
   "metadata": {},
   "outputs": [],
   "source": [
    "import numpy as np\n",
    "print(\"NumPy:\", np.__version__)\n"
   ]
  },
  {
   "cell_type": "code",
   "execution_count": null,
   "id": "1",
   "metadata": {},
   "outputs": [],
   "source": [
    "import sys, os\n",
    "from pathlib import Path\n",
    "\n",
    "def attach_src_and_cd():\n",
    "    here = Path.cwd()\n",
    "    # Busca 'src' en la carpeta actual y en todos los padres\n",
    "    for base in [here] + list(here.parents):\n",
    "        cand = base / \"src\"\n",
    "        if cand.is_dir():\n",
    "            if str(cand) not in sys.path:\n",
    "                sys.path.append(str(cand))\n",
    "            # Pon el directorio de trabajo en la raíz del repo (donde vive 'src')\n",
    "            os.chdir(base)\n",
    "            print(\"OK: usando src en\", cand)\n",
    "            print(\"CWD ahora es:\", Path.cwd())\n",
    "            return True\n",
    "    print(\"ERROR: no encontré carpeta 'src' empezando desde\", here)\n",
    "    return False\n",
    "\n",
    "attach_src_and_cd()\n"
   ]
  },
  {
   "cell_type": "markdown",
   "id": "2",
   "metadata": {},
   "source": [
    "## Paso 1: Generamos los puntos sobre una superficie conocida"
   ]
  },
  {
   "cell_type": "code",
   "execution_count": null,
   "id": "3",
   "metadata": {},
   "outputs": [],
   "source": [
    "from src.data.synth import generate_sphere_points2\n",
    "\n",
    "N = 600\n",
    "\n",
    "X = generate_sphere_points2(N)\n",
    "print(\"Shape de X:\", X.shape)\n",
    "print(\"Primeros 5 puntos:\\n\", X[:5])\n",
    "\n",
    "\n"
   ]
  },
  {
   "cell_type": "markdown",
   "id": "4",
   "metadata": {},
   "source": [
    "# Sanity Check"
   ]
  },
  {
   "cell_type": "code",
   "execution_count": null,
   "id": "5",
   "metadata": {},
   "outputs": [],
   "source": [
    "import numpy as np\n",
    "\n",
    "r = np.linalg.norm(X, axis=1)\n",
    "print(\"radio medio:\", r.mean(), \"  desvío:\", r.std(), \"  min/max:\", r.min(), r.max())\n"
   ]
  },
  {
   "cell_type": "markdown",
   "id": "6",
   "metadata": {},
   "source": [
    "# Vizuals\n",
    "Ya tenemos nuestra esfera. Vamos a verla!"
   ]
  },
  {
   "cell_type": "code",
   "execution_count": null,
   "id": "7",
   "metadata": {},
   "outputs": [],
   "source": [
    "import matplotlib.pyplot as plt\n",
    "from mpl_toolkits.mplot3d import Axes3D  # activa 3D\n",
    "\n",
    "fig = plt.figure(figsize=(5,5))\n",
    "ax = fig.add_subplot(111, projection=\"3d\")\n",
    "ax.scatter(X[:,0], X[:,1], X[:,2], s=10, alpha=0.7)\n",
    "\n",
    "ax.set_xlabel(\"X\"); ax.set_ylabel(\"Y\"); ax.set_zlabel(\"Z\")\n",
    "ax.set_title(\"Puntos en la esfera (radio≈1)\")\n",
    "plt.show()\n"
   ]
  },
  {
   "cell_type": "markdown",
   "id": "8",
   "metadata": {},
   "source": [
    "# OPCIONAL RUIDOOOOOOOO"
   ]
  },
  {
   "cell_type": "code",
   "execution_count": null,
   "id": "9",
   "metadata": {},
   "outputs": [],
   "source": [
    "from src.data.synth import add_gaussian_noise \n",
    "\n",
    "X_noisy = add_gaussian_noise(X, std=0.02, seed=42)  # ruido un poco visible\n"
   ]
  },
  {
   "cell_type": "code",
   "execution_count": null,
   "id": "10",
   "metadata": {},
   "outputs": [],
   "source": [
    "r_clean = np.linalg.norm(X, axis=1)      # radios ~ 1.000\n",
    "r_noisy = np.linalg.norm(X_noisy, axis=1)  # radios ~ 0.95–1.05 (aprox)\n",
    "r_clean[:5], r_noisy[:5]\n"
   ]
  },
  {
   "cell_type": "markdown",
   "id": "11",
   "metadata": {},
   "source": [
    "# KNN"
   ]
  },
  {
   "cell_type": "markdown",
   "id": "12",
   "metadata": {},
   "source": [
    "Conectaremos cada punto con su K vecinos mas cercanos"
   ]
  },
  {
   "cell_type": "code",
   "execution_count": null,
   "id": "13",
   "metadata": {},
   "outputs": [],
   "source": [
    "import numpy as np\n",
    "from sklearn.neighbors import NearestNeighbors\n",
    "from scipy.sparse import csr_matrix, csgraph\n",
    "import matplotlib.pyplot as plt\n"
   ]
  },
  {
   "cell_type": "code",
   "execution_count": null,
   "id": "14",
   "metadata": {},
   "outputs": [],
   "source": [
    "\n",
    "from src.graph.knn import build_knn_graph \n",
    "\n",
    "k = 20\n",
    "G = build_knn_graph(X, k)\n",
    "\n",
    "# 3) Revisa que funcione\n",
    "print(G)\n",
    "print(\"Nodos:\", G.number_of_nodes())\n",
    "print(\"Aristas:\", G.number_of_edges())\n",
    "\n"
   ]
  },
  {
   "cell_type": "markdown",
   "id": "15",
   "metadata": {},
   "source": [
    "Si:\n",
    "k es muy bajo → analizas la variedad a escalas muy finas.\n",
    "k es muy alto → analizas la variedad a escalas más gruesas (más “promediadas”)."
   ]
  },
  {
   "cell_type": "markdown",
   "id": "16",
   "metadata": {},
   "source": [
    "# Vizual KNN"
   ]
  },
  {
   "cell_type": "code",
   "execution_count": null,
   "id": "17",
   "metadata": {},
   "outputs": [],
   "source": [
    "from src.viz.plots import plot_knn_graph_3d\n",
    "\n",
    "plot_knn_graph_3d(\n",
    "    X,\n",
    "    G,\n",
    "    max_edges=500,                  # aumenta/reduce según saturación\n",
    "    outpath=\"artifacts/knn_3d.png\", # opcional, guarda imagen\n",
    "    title=f\"Grafo k-NN (k={k}, N={N})\"\n",
    ")\n"
   ]
  },
  {
   "cell_type": "markdown",
   "id": "18",
   "metadata": {},
   "source": [
    "# Geodesics"
   ]
  },
  {
   "cell_type": "code",
   "execution_count": null,
   "id": "19",
   "metadata": {},
   "outputs": [],
   "source": [
    "\n",
    "from __future__ import annotations\n",
    "import numpy as np\n",
    "import networkx as nx\n"
   ]
  },
  {
   "cell_type": "code",
   "execution_count": null,
   "id": "20",
   "metadata": {},
   "outputs": [],
   "source": [
    "from src.geodesic.shortest_paths import compute_geodesic_distances, handle_disconnections, is_symmetric, has_zero_diagonal\n"
   ]
  },
  {
   "cell_type": "code",
   "execution_count": null,
   "id": "21",
   "metadata": {},
   "outputs": [],
   "source": [
    "# Calculamos distancias geodesicas"
   ]
  },
  {
   "cell_type": "code",
   "execution_count": null,
   "id": "22",
   "metadata": {},
   "outputs": [],
   "source": [
    "D = compute_geodesic_distances(G)\n",
    "print(\"Matriz de distancias geodésicas:\", D.shape)\n"
   ]
  },
  {
   "cell_type": "code",
   "execution_count": null,
   "id": "23",
   "metadata": {},
   "outputs": [],
   "source": [
    "from src.geodesic.shortest_path_FAST import compute_geodesic_distances_fast\n",
    "\n",
    "# Dijkstra (rápido)\n",
    "%time D= compute_geodesic_distances_fast(G, method=\"D\")\n",
    "\n",
    "# (Opcional) si quieres comparar con tu versión vieja:\n",
    "# %time D_fw = nx.floyd_warshall_numpy(G, weight=\"weight\")\n"
   ]
  },
  {
   "cell_type": "code",
   "execution_count": null,
   "id": "24",
   "metadata": {},
   "outputs": [],
   "source": [
    "# Manejamos desconexiones"
   ]
  },
  {
   "cell_type": "code",
   "execution_count": null,
   "id": "25",
   "metadata": {},
   "outputs": [],
   "source": [
    "D = handle_disconnections(D, strategy=\"big_value\")\n"
   ]
  },
  {
   "cell_type": "code",
   "execution_count": null,
   "id": "26",
   "metadata": {},
   "outputs": [],
   "source": [
    "# sanity checks"
   ]
  },
  {
   "cell_type": "code",
   "execution_count": null,
   "id": "27",
   "metadata": {},
   "outputs": [],
   "source": [
    "print(\"¿Simétrica?\", is_symmetric(D))\n",
    "print(\"¿Diagonal cero?\", has_zero_diagonal(D))\n"
   ]
  },
  {
   "cell_type": "code",
   "execution_count": null,
   "id": "28",
   "metadata": {},
   "outputs": [],
   "source": [
    "# Ejemplo"
   ]
  },
  {
   "cell_type": "code",
   "execution_count": null,
   "id": "29",
   "metadata": {},
   "outputs": [],
   "source": [
    "print(\"Distancia entre nodo 0 y 1:\", D[19,310])\n"
   ]
  },
  {
   "cell_type": "code",
   "execution_count": null,
   "id": "30",
   "metadata": {},
   "outputs": [],
   "source": [
    "# Viz Geodesica"
   ]
  },
  {
   "cell_type": "code",
   "execution_count": null,
   "id": "31",
   "metadata": {
    "jupyter": {
     "source_hidden": true
    }
   },
   "outputs": [],
   "source": [
    "from src.viz.plots import plot_geodesic_path_3d"
   ]
  },
  {
   "cell_type": "code",
   "execution_count": null,
   "id": "32",
   "metadata": {
    "jupyter": {
     "source_hidden": true
    }
   },
   "outputs": [],
   "source": [
    "src, dst = 0, 470"
   ]
  },
  {
   "cell_type": "code",
   "execution_count": null,
   "id": "33",
   "metadata": {},
   "outputs": [],
   "source": [
    "plot_geodesic_path_3d(\n",
    "    X, G, src, dst,\n",
    "    outpath=\"artifacts/geodesic_path.png\"\n",
    ")"
   ]
  },
  {
   "cell_type": "code",
   "execution_count": null,
   "id": "34",
   "metadata": {},
   "outputs": [],
   "source": [
    "# contrastemos!"
   ]
  },
  {
   "cell_type": "code",
   "execution_count": null,
   "id": "35",
   "metadata": {},
   "outputs": [],
   "source": [
    "from src.viz.plots import plot_geodesic_vs_euclidean"
   ]
  },
  {
   "cell_type": "code",
   "execution_count": null,
   "id": "36",
   "metadata": {},
   "outputs": [],
   "source": [
    "plot_geodesic_vs_euclidean(X, G, src, dst, outpath=\"artifacts/geodesic_vs_euclidean.png\")"
   ]
  },
  {
   "cell_type": "code",
   "execution_count": null,
   "id": "37",
   "metadata": {},
   "outputs": [],
   "source": [
    "#Heatmap\n"
   ]
  },
  {
   "cell_type": "code",
   "execution_count": null,
   "id": "38",
   "metadata": {},
   "outputs": [],
   "source": [
    "from src.viz.plots import plot_geodesic_distance_matrix\n"
   ]
  },
  {
   "cell_type": "code",
   "execution_count": null,
   "id": "39",
   "metadata": {},
   "outputs": [],
   "source": [
    "plot_geodesic_distance_matrix(\n",
    "    D\n",
    ")"
   ]
  },
  {
   "cell_type": "code",
   "execution_count": null,
   "id": "40",
   "metadata": {},
   "outputs": [],
   "source": [
    "#MDS"
   ]
  },
  {
   "cell_type": "code",
   "execution_count": null,
   "id": "41",
   "metadata": {},
   "outputs": [],
   "source": [
    "from src.embed.isomap import classical_mds\n"
   ]
  },
  {
   "cell_type": "code",
   "execution_count": null,
   "id": "42",
   "metadata": {},
   "outputs": [],
   "source": [
    "\n",
    "\n",
    "\n",
    "\n",
    "\n",
    "\n",
    "\n",
    "\n",
    "#Embeding en 2D"
   ]
  },
  {
   "cell_type": "code",
   "execution_count": null,
   "id": "43",
   "metadata": {},
   "outputs": [],
   "source": [
    "Y2 = classical_mds(D, n_components=2)\n",
    "print(\"Shape embedding 2D:\", Y2.shape)\n"
   ]
  },
  {
   "cell_type": "code",
   "execution_count": null,
   "id": "44",
   "metadata": {},
   "outputs": [],
   "source": [
    "# Embeding en 3D"
   ]
  },
  {
   "cell_type": "code",
   "execution_count": null,
   "id": "45",
   "metadata": {},
   "outputs": [],
   "source": [
    "# Embedding en 3D\n",
    "Y3 = classical_mds(D, n_components=3)\n",
    "print(\"Shape embedding 3D:\", Y3.shape)"
   ]
  },
  {
   "cell_type": "code",
   "execution_count": null,
   "id": "46",
   "metadata": {},
   "outputs": [],
   "source": [
    "# Viz 2D"
   ]
  },
  {
   "cell_type": "code",
   "execution_count": null,
   "id": "47",
   "metadata": {},
   "outputs": [],
   "source": [
    "import matplotlib.pyplot as plt\n",
    "\n",
    "plt.figure(figsize=(6,6))\n",
    "plt.scatter(Y2[:,0], Y2[:,1], s=10, alpha=0.6, c=\"cornflowerblue\")\n",
    "plt.title(\"ISOMAP Embedding (2D)\")\n",
    "plt.xlabel(\"Dim 1\"); plt.ylabel(\"Dim 2\")\n",
    "plt.show()\n"
   ]
  },
  {
   "cell_type": "code",
   "execution_count": null,
   "id": "48",
   "metadata": {},
   "outputs": [],
   "source": [
    "#Viz 3D"
   ]
  },
  {
   "cell_type": "code",
   "execution_count": null,
   "id": "49",
   "metadata": {},
   "outputs": [],
   "source": [
    "#Sanity Check"
   ]
  },
  {
   "cell_type": "code",
   "execution_count": null,
   "id": "50",
   "metadata": {},
   "outputs": [],
   "source": [
    "# Checar media ~ 0 (centrado)\n",
    "print(\"Media de cada columna:\", Y2.mean(axis=0))\n",
    "\n",
    "# Ver primeras distancias preservadas\n",
    "import numpy as np\n",
    "print(\"Dist original (0,1):\", D[0,1])\n",
    "print(\"Dist embebida (0,1):\", np.linalg.norm(Y2[0]-Y2[1]))\n"
   ]
  },
  {
   "cell_type": "code",
   "execution_count": null,
   "id": "51",
   "metadata": {},
   "outputs": [],
   "source": [
    "# ESTO YA ES ISOMAP COMPLETOOOOO"
   ]
  },
  {
   "cell_type": "code",
   "execution_count": null,
   "id": "52",
   "metadata": {},
   "outputs": [],
   "source": [
    "# Etiquetemos los puntos para ver en donde se ubican"
   ]
  },
  {
   "cell_type": "code",
   "execution_count": null,
   "id": "53",
   "metadata": {},
   "outputs": [],
   "source": [
    "n = X.shape[0]\n",
    "ids = np.arange(n)  # 0..n-1\n"
   ]
  },
  {
   "cell_type": "code",
   "execution_count": null,
   "id": "54",
   "metadata": {},
   "outputs": [],
   "source": [
    "# Ejemplo: 25 al azar (reproducible)\n",
    "np.random.seed(123)\n",
    "idx_to_label = np.random.choice(n, size=25, replace=False)\n",
    "\n",
    "# O fija tú los que quieras:\n",
    "# idx_to_label = np.array([0, 5, 42, 123, 199])\n"
   ]
  },
  {
   "cell_type": "code",
   "execution_count": null,
   "id": "55",
   "metadata": {},
   "outputs": [],
   "source": [
    "import matplotlib.pyplot as plt\n",
    "\n",
    "fig = plt.figure(figsize=(6,6))\n",
    "ax = fig.add_subplot(111, projection=\"3d\")\n",
    "\n",
    "ax.scatter(X[:,0], X[:,1], X[:,2], s=12, alpha=0.7)\n",
    "\n",
    "# Etiquetas (solo la muestra)\n",
    "for i in idx_to_label:\n",
    "    ax.text(X[i,0], X[i,1], X[i,2], str(i), fontsize=8)\n",
    "\n",
    "for a in (ax.set_xlim, ax.set_ylim, ax.set_zlim):\n",
    "    a([-1.2, 1.2])\n",
    "\n",
    "ax.set_title(\"Esfera 3D con etiquetas parciales\")\n",
    "plt.savefig(\"artifacts/fig_sphere_labels.png\", dpi=300, bbox_inches=\"tight\")\n",
    "plt.show()\n"
   ]
  },
  {
   "cell_type": "code",
   "execution_count": null,
   "id": "56",
   "metadata": {},
   "outputs": [],
   "source": [
    "plt.figure(figsize=(6,6))\n",
    "plt.scatter(Y2[:,0], Y2[:,1], s=20, alpha=0.8)\n",
    "\n",
    "for i in idx_to_label:\n",
    "    plt.text(Y2[i,0], Y2[i,1], str(i), fontsize=8)\n",
    "\n",
    "plt.axis(\"equal\")\n",
    "plt.title(\"ISOMAP 2D con etiquetas parciales\")\n",
    "plt.savefig(\"artifacts/fig_isomap2d_labels.png\", dpi=300, bbox_inches=\"tight\")\n",
    "plt.show()\n"
   ]
  },
  {
   "cell_type": "code",
   "execution_count": null,
   "id": "57",
   "metadata": {},
   "outputs": [],
   "source": [
    "# Coloreamos"
   ]
  },
  {
   "cell_type": "code",
   "execution_count": null,
   "id": "58",
   "metadata": {},
   "outputs": [],
   "source": [
    "# Color por altura Z (del X \"limpio\", sin ruido, o del Xn)\n",
    "c = X[:,2]  # o Xn[:,2]\n",
    "\n",
    "# Esfera\n",
    "fig = plt.figure(figsize=(6,6))\n",
    "ax = fig.add_subplot(111, projection=\"3d\")\n",
    "sc = ax.scatter(X[:,0], X[:,1], X[:,2], c=c, s=12, alpha=0.8)\n",
    "fig.colorbar(sc, ax=ax, shrink=0.6, label=\"Z original\")\n",
    "for i in idx_to_label:\n",
    "    ax.text(X[i,0], X[i,1], X[i,2], str(i), fontsize=8)\n",
    "plt.savefig(\"artifacts/fig_sphere_labels_colored.png\", dpi=300, bbox_inches=\"tight\")\n",
    "plt.show()\n",
    "\n",
    "# ISOMAP 2D\n",
    "plt.figure(figsize=(6,6))\n",
    "plt.scatter(Y2[:,0], Y2[:,1], c=c, s=20, alpha=0.9)\n",
    "for i in idx_to_label:\n",
    "    plt.text(Y2[i,0], Y2[i,1], str(i), fontsize=8)\n",
    "plt.axis(\"equal\"); plt.colorbar(label=\"Z original\")\n",
    "plt.title(\"ISOMAP 2D con etiquetas y color consistente\")\n",
    "plt.savefig(\"artifacts/fig_isomap2d_labels_colored.png\", dpi=300, bbox_inches=\"tight\")\n",
    "plt.show()\n"
   ]
  },
  {
   "cell_type": "code",
   "execution_count": null,
   "id": "59",
   "metadata": {},
   "outputs": [],
   "source": [
    "# TERMINAMOS ISOMAP PODEMOS AHORA INICIAR LA GEO DESCRIPTIVA"
   ]
  },
  {
   "cell_type": "markdown",
   "id": "60",
   "metadata": {},
   "source": [
    "### LPCA (Local PCA) – Estimación de planos tangentes\n",
    "\n",
    "La idea es que, en una variedad 2D inmersa en \\(\\mathbb{R}^3\\), el vecindario de un punto se puede aproximar por un **plano tangente**.\n",
    "\n",
    "**Procedimiento:**\n",
    "1. Tomamos el punto central \\(x_c\\) y sus vecinos \\(x_j\\).\n",
    "2. Centramos: \\(P = X_{\\text{vecinos}} - x_c\\).\n",
    "3. Hacemos **SVD**: \\(P = U \\Sigma V^\\top\\).\n",
    "4. En \\(\\mathbb{R}^3\\):  \n",
    "   - Las **dos primeras columnas de \\(V\\)** forman la base del plano tangente (`E`, de tamaño (3,2)).  \n",
    "   - La **última columna** es la aproximación al vector normal (`normal`, de tamaño (3,)).  \n",
    "   - Los **valores singulares principales** (`svals`) indican la variabilidad local en cada dirección tangente.\n",
    "\n",
    "**Ejemplo de salida:**\n",
    "- `E.shape = (3,2)` → dos vectores base del plano tangente.  \n",
    "- `normal.shape = (3,)` → vector normal ortogonal.  \n",
    "- `svals = [1.29, 0.94]` → varianzas locales en las direcciones tangentes.\n"
   ]
  },
  {
   "cell_type": "code",
   "execution_count": null,
   "id": "61",
   "metadata": {},
   "outputs": [],
   "source": [
    "import numpy as np\n",
    "import matplotlib.pyplot as plt\n",
    "\n",
    "\n",
    "from src.geom.lpca import tangent_plane\n",
    "from src.viz.plots import plot_tangent_frame_3d "
   ]
  },
  {
   "cell_type": "code",
   "execution_count": null,
   "id": "62",
   "metadata": {},
   "outputs": [],
   "source": [
    "center_idx = 200                                 # el punto que quieras analizar\n",
    "neighbors_idx = np.array(list(G.neighbors(center_idx)))"
   ]
  },
  {
   "cell_type": "code",
   "execution_count": null,
   "id": "63",
   "metadata": {},
   "outputs": [],
   "source": [
    "center, E, normal, svals = tangent_plane(X, neighbors_idx, center_idx, d=2)\n",
    "print(E.shape, normal.shape if normal is not None else None, svals)\n"
   ]
  },
  {
   "cell_type": "code",
   "execution_count": null,
   "id": "64",
   "metadata": {},
   "outputs": [],
   "source": [
    "plot_tangent_frame_3d(\n",
    "    X,                     # o X\n",
    "    center_idx=center_idx,\n",
    "    E=E,\n",
    "    normal=normal,\n",
    "    scale=0.25,\n",
    "    outpath=\"artifacts/fig_tangent_center42.png\",\n",
    "    title=f\"Plano tangente y normal (idx={center_idx})\"\n",
    ")\n"
   ]
  },
  {
   "cell_type": "code",
   "execution_count": null,
   "id": "65",
   "metadata": {},
   "outputs": [],
   "source": [
    "#Vecinos usados"
   ]
  },
  {
   "cell_type": "code",
   "execution_count": null,
   "id": "66",
   "metadata": {},
   "outputs": [],
   "source": [
    "import matplotlib.pyplot as plt\n",
    "\n",
    "fig = plt.figure(figsize=(6,6))\n",
    "ax = fig.add_subplot(111, projection=\"3d\")\n",
    "\n",
    "# todos (suaves)\n",
    "ax.scatter(X[:,0], X[:,1], X[:,2], s=10, alpha=0.2)\n",
    "\n",
    "# vecinos resaltados\n",
    "Nv = X[neighbors_idx]\n",
    "ax.scatter(Nv[:,0], Nv[:,1], Nv[:,2], s=18)\n",
    "\n",
    "# centro\n",
    "c = X[center_idx]\n",
    "ax.scatter([c[0]], [c[1]], [c[2]], s=60)\n",
    "\n",
    "plt.savefig(f\"artifacts/fig_neighbors_{center_idx}.png\", dpi=300, bbox_inches=\"tight\")\n",
    "plt.show()\n"
   ]
  },
  {
   "cell_type": "markdown",
   "id": "67",
   "metadata": {},
   "source": [
    "Coordenadas locales (LPCA → proyección):"
   ]
  },
  {
   "cell_type": "code",
   "execution_count": null,
   "id": "68",
   "metadata": {},
   "outputs": [],
   "source": [
    "from sklearn.decomposition import PCA"
   ]
  },
  {
   "cell_type": "code",
   "execution_count": null,
   "id": "69",
   "metadata": {},
   "outputs": [],
   "source": [
    "from src.geom.metric import local_coordinates\n",
    "from src.viz.plots import plot_tangent_frame_3d"
   ]
  },
  {
   "cell_type": "code",
   "execution_count": null,
   "id": "70",
   "metadata": {},
   "outputs": [],
   "source": [
    "# Vecinos del punto y proyección al plano tangente\n",
    "Nv = X[neighbors_idx]                         # (m, 3)\n",
    "coords2 = local_coordinates(Nv, center=center, E=E)  # (m, 2)\n",
    "\n",
    "# El propio centro en coords locales (debe ser ~ (0,0))\n",
    "c_local = local_coordinates(center[None, :], center=center, E=E)[0]\n",
    "print(\"Centro en coords locales:\", c_local)\n"
   ]
  },
  {
   "cell_type": "code",
   "execution_count": null,
   "id": "71",
   "metadata": {},
   "outputs": [],
   "source": [
    "plt.figure(figsize=(5.5, 5.5))\n",
    "plt.scatter(coords2[:,0], coords2[:,1], s=20, alpha=0.85, label=\"vecinos\")\n",
    "plt.scatter([c_local[0]], [c_local[1]], s=50, label=\"centro (0,0)\")\n",
    "plt.axhline(0, linewidth=1); plt.axvline(0, linewidth=1)\n",
    "plt.gca().set_aspect(\"equal\", adjustable=\"box\")\n",
    "plt.title(f\"Parche local en el plano tangente (idx={center_idx})\")\n",
    "plt.xlabel(\"e1\"); plt.ylabel(\"e2\"); plt.legend()\n",
    "plt.savefig(f\"artifacts/fig_local_patch_{center_idx}.png\", dpi=300, bbox_inches=\"tight\")\n",
    "plt.show()\n"
   ]
  },
  {
   "cell_type": "code",
   "execution_count": null,
   "id": "72",
   "metadata": {},
   "outputs": [],
   "source": [
    "pca2 = PCA(n_components=2).fit(coords2)\n",
    "print(\"Varianzas locales (patch 2D):\", pca2.explained_variance_)\n",
    "\n",
    "# razón entre la primera y la segunda varianza\n",
    "ratio = pca2.explained_variance_[0] / pca2.explained_variance_[1]\n",
    "print(\"Razón de anisotropía (var1/var2):\", ratio)\n"
   ]
  },
  {
   "cell_type": "code",
   "execution_count": null,
   "id": "73",
   "metadata": {},
   "outputs": [],
   "source": [
    "plot_tangent_frame_3d(\n",
    "    X,\n",
    "    center_idx=center_idx,\n",
    "    E=E,\n",
    "    normal=normal,\n",
    "    scale=0.3,\n",
    "    outpath=f\"artifacts/fig_tangent_frame_{center_idx}.png\",\n",
    "    title=f\"Plano tangente y normal en idx={center_idx}\"\n",
    ")\n"
   ]
  },
  {
   "cell_type": "code",
   "execution_count": null,
   "id": "74",
   "metadata": {},
   "outputs": [],
   "source": [
    "plot_tangent_frame_3d(\n",
    "    X, center_idx, E, normal,\n",
    "    scale=0.3,\n",
    "    outpath=f\"artifacts/fig_tangent_frame_{center_idx}.png\",\n",
    "    title=f\"Plano tangente y normal en idx={center_idx}\"\n",
    ")\n"
   ]
  },
  {
   "cell_type": "code",
   "execution_count": null,
   "id": "75",
   "metadata": {},
   "outputs": [],
   "source": [
    "#Métrica local en el parche (estimate_metric)."
   ]
  },
  {
   "cell_type": "code",
   "execution_count": null,
   "id": "76",
   "metadata": {},
   "outputs": [],
   "source": [
    "from src.geom.metric import local_coordinates, estimate_metric\n",
    "from src.viz.plots import plot_local_patch_with_ellipse"
   ]
  },
  {
   "cell_type": "code",
   "execution_count": null,
   "id": "77",
   "metadata": {},
   "outputs": [],
   "source": [
    "# 1) Parche local en coords (ya tienes center, E, neighbors_idx, Xn)\n",
    "Nv = X[neighbors_idx]                         # (m, 3)\n",
    "coords2 = local_coordinates(Nv, center=center, E=E)  # (m, 2)\n"
   ]
  },
  {
   "cell_type": "code",
   "execution_count": null,
   "id": "78",
   "metadata": {},
   "outputs": [],
   "source": [
    "# 2) Estimar métrica (normalizada, trace ≈ 2)\n",
    "g = estimate_metric(coords2, weighted=False)\n",
    "print(\"g:\\n\", g)\n",
    "print(\"trace(g) =\", np.trace(g))\n"
   ]
  },
  {
   "cell_type": "code",
   "execution_count": null,
   "id": "79",
   "metadata": {},
   "outputs": [],
   "source": [
    "# 3) Diagnóstico rápido: autovalores (anisotropía) y razón\n",
    "evals, _ = np.linalg.eigh(g)\n",
    "evals = np.sort(evals)[::-1]  # mayor → menor\n",
    "print(\"eigenvals(g) =\", evals)\n",
    "print(\"razón mayor/menor =\", evals[0] / evals[-1])\n"
   ]
  },
  {
   "cell_type": "code",
   "execution_count": null,
   "id": "80",
   "metadata": {},
   "outputs": [],
   "source": [
    "# 4) Visual del parche + elipse métrica\n",
    "plot_local_patch_with_ellipse(\n",
    "    coords2,\n",
    "    g,\n",
    "    outpath=f\"artifacts/fig_local_metric_{center_idx}.png\",\n",
    "    title=f'Parche local + elipse métrica (idx={center_idx})'\n",
    ")\n"
   ]
  },
  {
   "cell_type": "code",
   "execution_count": null,
   "id": "81",
   "metadata": {},
   "outputs": [],
   "source": [
    "for center_idx in [5, 100, 101, 69]:\n",
    "    neighbors_idx = np.array(list(G.neighbors(center_idx)))\n",
    "    center, E, normal, svals = tangent_plane(X, neighbors_idx, center_idx, d=2)\n",
    "    coords2 = local_coordinates(X[neighbors_idx], center=center, E=E)\n",
    "    g = estimate_metric(coords2, weighted=True)\n",
    "\n",
    "    evals, evecs = np.linalg.eigh(g)              # evals ascendente\n",
    "    lmin, lmax = float(evals[0]), float(evals[1])\n",
    "    kappa = lmax / lmin\n",
    "    tr = lmin + lmax\n",
    "\n",
    "    print(f\"{center_idx} → autovalores g: [{lmin:.4f} {lmax:.4f}]  \"\n",
    "          f\"razón(lmax/lmin): {kappa:.2f}  trace: {tr:.4f}\")\n"
   ]
  },
  {
   "cell_type": "code",
   "execution_count": null,
   "id": "82",
   "metadata": {},
   "outputs": [],
   "source": [
    "# POdemos ver que el punto 3 genero un mucho mejor parche"
   ]
  },
  {
   "cell_type": "code",
   "execution_count": null,
   "id": "83",
   "metadata": {},
   "outputs": [],
   "source": [
    "# Que pasa si parchamos usando geodesicas y no euclideas? NO es esto contraintuitivo? No perdemos localidad?"
   ]
  },
  {
   "cell_type": "code",
   "execution_count": null,
   "id": "84",
   "metadata": {},
   "outputs": [],
   "source": [
    "#ULTIMO ANAL. A PARTIR DE LA METRICA ESTIMADA"
   ]
  },
  {
   "cell_type": "code",
   "execution_count": null,
   "id": "85",
   "metadata": {},
   "outputs": [],
   "source": [
    "### Curvatura local vía parche cuadrático (Monge + mínimos cuadrados)\n"
   ]
  },
  {
   "cell_type": "code",
   "execution_count": null,
   "id": "86",
   "metadata": {},
   "outputs": [],
   "source": [
    "from src.geom.curvature_extrinsic import fit_quadratic_patch, curvature_from_quadratic"
   ]
  },
  {
   "cell_type": "code",
   "execution_count": null,
   "id": "87",
   "metadata": {},
   "outputs": [],
   "source": [
    "# 1) Marco tangente en el punto\n",
    "center, E, normal, _ = tangent_plane(X, neighbors_idx, center_idx, d=2)\n"
   ]
  },
  {
   "cell_type": "code",
   "execution_count": null,
   "id": "88",
   "metadata": {},
   "outputs": [],
   "source": [
    "# 2) Parche local (coords 2D en el plano tangente)\n",
    "Nv = X[neighbors_idx]                              # vecinos en 3D\n",
    "coords2 = local_coordinates(Nv, center=center, E=E) # (m,2)"
   ]
  },
  {
   "cell_type": "code",
   "execution_count": null,
   "id": "89",
   "metadata": {},
   "outputs": [],
   "source": [
    "# 3) Alturas respecto a la normal (para el ajuste h(u,v))\n",
    "heights = (Nv - center) @ normal                    # (m,)\n"
   ]
  },
  {
   "cell_type": "code",
   "execution_count": null,
   "id": "90",
   "metadata": {},
   "outputs": [],
   "source": [
    "# 4) Ajuste cuadrático y curvaturas\n",
    "coeffs = fit_quadratic_patch(coords2, heights, weighted=True)\n",
    "k1, k2, K, H, R = curvature_from_quadratic(coeffs)"
   ]
  },
  {
   "cell_type": "code",
   "execution_count": null,
   "id": "91",
   "metadata": {},
   "outputs": [],
   "source": [
    "print(\"Coeficientes [a, b, c, α, β, γ]:\", coeffs)\n",
    "print(\"Curvaturas principales:\", k1, k2)\n",
    "print(\"Curvatura gaussiana K:\", K)\n",
    "print(\"Curvatura media H:\", H)\n",
    "print(\"Curvatura escalar R=2K:\", R)"
   ]
  },
  {
   "cell_type": "code",
   "execution_count": null,
   "id": "92",
   "metadata": {},
   "outputs": [],
   "source": [
    "#Sanity check"
   ]
  },
  {
   "cell_type": "code",
   "execution_count": null,
   "id": "93",
   "metadata": {},
   "outputs": [],
   "source": [
    "# K y H esperados (esfera unidad, ver teoría abajo sobre signos)\n",
    "tol = 0.3\n",
    "print(\"Esperado esfera: K≈1  | H≈±1 (según orientación de la normal)\")\n",
    "\n",
    "# sanity: magnitudes\n",
    "assert np.isfinite([k1,k2,K,H,R]).all(), \"Aparecieron NaN/Inf en curvaturas\""
   ]
  },
  {
   "cell_type": "code",
   "execution_count": null,
   "id": "94",
   "metadata": {},
   "outputs": [],
   "source": [
    "from src.eval.curvature import analyze_center\n",
    "\n",
    "# Ejemplo: esfera unidad con datos Xn y grafo G\n",
    "_ = analyze_center(center_idx=42, X=X, G=G, weighted=True, radius=1.0, echo=True)\n"
   ]
  },
  {
   "cell_type": "code",
   "execution_count": null,
   "id": "95",
   "metadata": {},
   "outputs": [],
   "source": []
  },
  {
   "cell_type": "code",
   "execution_count": null,
   "id": "96",
   "metadata": {},
   "outputs": [],
   "source": []
  }
 ],
 "metadata": {
  "kernelspec": {
   "display_name": "econ-poc",
   "language": "python",
   "name": "econ-poc"
  },
  "language_info": {
   "codemirror_mode": {
    "name": "ipython",
    "version": 3
   },
   "file_extension": ".py",
   "mimetype": "text/x-python",
   "name": "python",
   "nbconvert_exporter": "python",
   "pygments_lexer": "ipython3",
   "version": "3.11.11"
  }
 },
 "nbformat": 4,
 "nbformat_minor": 5
}
